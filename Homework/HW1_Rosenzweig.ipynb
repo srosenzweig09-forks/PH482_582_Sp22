{
 "cells": [
  {
   "cell_type": "markdown",
   "metadata": {},
   "source": [
    "# Homework 1\n",
    "Suzanne Rosenzweig"
   ]
  },
  {
   "cell_type": "markdown",
   "metadata": {},
   "source": [
    "<!-- ### <span style=\"color: green;\">1. How would you define Machine Learning?</span> -->\n",
    "### 1. **How would you define Machine Learning?**"
   ]
  },
  {
   "cell_type": "markdown",
   "metadata": {},
   "source": [
    "**Machine Learning** is a field of study in which a computer is trained to learn the function that predicts some target value or classification from a set of input features. Supervised algorithms are constructed with the true target information (the training data is labeled) while unsupervised algorithms are not given any targets during training (the training data is unlabeled)."
   ]
  },
  {
   "cell_type": "markdown",
   "metadata": {},
   "source": [
    "### 2. **Can you name four types of problems where it shines?</span>**"
   ]
  },
  {
   "cell_type": "markdown",
   "metadata": {},
   "source": [
    "1. Image classification\n",
    "2. Cancer detection\n",
    "3. Identifying spam emails\n",
    "4. Voice recognition"
   ]
  },
  {
   "cell_type": "markdown",
   "metadata": {},
   "source": [
    "### 3. **What is a labeled training set?**"
   ]
  },
  {
   "cell_type": "markdown",
   "metadata": {},
   "source": [
    "A set of input features that are associated with a label (target) that is used during training. For example, if the goal is to design an algorithm to predict the price of a house given the following features: area, number of bedrooms, and number of bathrooms, the labeled training set would contain values for these features as well as the price of the house for some set of houses in which all of this information is known. "
   ]
  },
  {
   "cell_type": "markdown",
   "metadata": {},
   "source": [
    "### 4. **What are the two most common supervised tasks?**"
   ]
  },
  {
   "cell_type": "markdown",
   "metadata": {},
   "source": [
    "**Classification**<br>\n",
    "Predicts which class is described by a set of input features.\n",
    "\n",
    "**Regression**<br>\n",
    "Predicts a target numeric value given a set of input features (predictors)."
   ]
  },
  {
   "cell_type": "markdown",
   "metadata": {},
   "source": [
    "### 5. **Can you name four common unsupervised tasks?**"
   ]
  },
  {
   "cell_type": "markdown",
   "metadata": {},
   "source": [
    "**Visualization**<br>\n",
    "A 2D or 3D representation of complex and unlabeled data that preserve as much structure as possible, whichs provides an understanding of how the data is organized and may perhaps identify unsuspected patterns.\n",
    "\n",
    "**Dimensionality Reduction**<br>\n",
    "A method of simplifying data without losing too much information by merging several correlated featuers into one (aka feature extraction).\n",
    "\n",
    "**Anomaly/Novelty Detection**<br>\n",
    "Anomaly detection: An algorithm that is designed to learn common features of a dataset in order to identify anomalies. Novelty detection: Similar to anomaly detection but requires a very \"clean\" training set, devoid of any instance that the algorithm is intended to detect.\n",
    "\n",
    "**Association Rule Learning**<br>\n",
    "A method of discovering interesting relations between attributes within a large amount of data. "
   ]
  },
  {
   "cell_type": "markdown",
   "metadata": {},
   "source": [
    "### 11. **What type of learning algorithm relies on a similarity measure to make predictions?**"
   ]
  },
  {
   "cell_type": "markdown",
   "metadata": {},
   "source": [
    "Instance-based learning"
   ]
  },
  {
   "cell_type": "markdown",
   "metadata": {},
   "source": [
    "### 12. **What is the difference between a model parameter and a learning algorithm’s hyperparameter?**"
   ]
  },
  {
   "cell_type": "markdown",
   "metadata": {},
   "source": [
    "Model parameters are used to provide the best fit of the data and are continuously modified during training. Hyperparameters have nothing to do with the fit and instead they are used to introduce model characteristics, such as regularization. Multiple models may be trained to search for the same model parameters (they are all trying to model the same process) even though they are using different hyperparameters, which may affect their ability to produce accurate model parameters."
   ]
  },
  {
   "cell_type": "markdown",
   "metadata": {},
   "source": [
    "### 13. **What do model-based learning algorithms search for? What is the most common strategy they use to succeed? How do they make predictions?**"
   ]
  },
  {
   "cell_type": "markdown",
   "metadata": {},
   "source": [
    "Model-based learning algorithms search for a function that can be used to make predictions on new cases. The most common strategy is to make the model represent a linear function that is a best fit of the data. Predictions are provided by evaluating new cases in the predictive function (the best fit of the training data)."
   ]
  },
  {
   "cell_type": "markdown",
   "metadata": {},
   "source": [
    "### 14. **Can you name four of the main challenges in Machine Learning?**"
   ]
  },
  {
   "cell_type": "markdown",
   "metadata": {},
   "source": [
    "1. Insufficient Quantity of Training Data\n",
    "2. Nonrepresentative Training Data\n",
    "3. Poor-Quality Data\n",
    "4. Irrelevant Features\n",
    "5. Overfitting/Underfitting the Training Data"
   ]
  },
  {
   "cell_type": "markdown",
   "metadata": {},
   "source": [
    "### 15. **If your model performs great on the training data but generalizes poorly to new instances, what is happening? Can you name three possible solutions?**"
   ]
  },
  {
   "cell_type": "markdown",
   "metadata": {},
   "source": [
    "If your model performs great on the training data but it does not generalize well, the model is overfitting the training data, which occurs when the model detects patterns within the noise of a dataset. This is likely to occur if the model is provided with uninformative attributes during training. One solution is to try reducting noise in the training data by fixing any errors and removing outliers. Another potential cause of overfitting is when the dataset is too small. The solution here is to gather more training data. Finally, the model may overfit a dataset that includes uninformative attributes. The solution here is to simplify the model by using fewer features."
   ]
  },
  {
   "cell_type": "markdown",
   "metadata": {},
   "source": [
    "### 16. **What is a test set, and why would you want to use it?**"
   ]
  },
  {
   "cell_type": "markdown",
   "metadata": {},
   "source": [
    "A test set is used to test the model after training. The error rate on new cases is the generalization error, which can be estimated by evaluating the model on a test set. This provides an idea of how well the model will perform on instances it has never seen before."
   ]
  },
  {
   "cell_type": "markdown",
   "metadata": {},
   "source": [
    "### 17. **What is the purpose of a validation set?**"
   ]
  },
  {
   "cell_type": "markdown",
   "metadata": {},
   "source": [
    "If the generalization error is minimized on the same training and testing sets, then the model will perform the best *for that particular set*. A validation set can be used to tune the hyperparameters of the model, which can then be trained on the full training set, and evaluated on the test set."
   ]
  },
  {
   "cell_type": "markdown",
   "metadata": {},
   "source": [
    "### 18. **What is the train-dev set, when do you need it, and how do you use it?**"
   ]
  },
  {
   "cell_type": "markdown",
   "metadata": {},
   "source": [
    "A train-dev set can be used if the model performs poorly on the validation set in order to determine why. After training the model on the training set, it can be evaluated on the train-dev set to gauge whether or not the model is overfitting the training set. If the model performs well on the train-dev set, then the model is not overfitting the training set, and it may be useful to retrain the model after preprocessing the data."
   ]
  },
  {
   "cell_type": "markdown",
   "metadata": {},
   "source": [
    "### 19. **What can go wrong if you tune hyperparameters using the test set?**"
   ]
  },
  {
   "cell_type": "markdown",
   "metadata": {},
   "source": [
    "If you tune hyperparameters to the test set, then the model has been trained to perform well on *that particular set* and it may not generalize well to new cases."
   ]
  }
 ],
 "metadata": {
  "language_info": {
   "name": "python"
  },
  "orig_nbformat": 4
 },
 "nbformat": 4,
 "nbformat_minor": 2
}
